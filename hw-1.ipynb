{
 "cells": [
  {
   "cell_type": "code",
   "execution_count": 5,
   "metadata": {},
   "outputs": [
    {
     "data": {
      "application/vnd.jupyter.widget-view+json": {
       "model_id": "41d99a62b3cd4488b056caac14fa1e47",
       "version_major": 2,
       "version_minor": 0
      },
      "text/plain": [
       "GridBox(children=(Button(layout=Layout(height='60px', width='60px'), style=ButtonStyle(button_color='lightgree…"
      ]
     },
     "metadata": {},
     "output_type": "display_data"
    },
    {
     "data": {
      "application/vnd.jupyter.widget-view+json": {
       "model_id": "955c6f8d3ede4cc0abe1f41e626a310e",
       "version_major": 2,
       "version_minor": 0
      },
      "text/plain": [
       "Output()"
      ]
     },
     "metadata": {},
     "output_type": "display_data"
    },
    {
     "name": "stdout",
     "output_type": "stream",
     "text": [
      "保存成功!\n"
     ]
    }
   ],
   "source": [
    "import pandas as pd\n",
    "import ipywidgets as widgets\n",
    "from IPython.display import display, clear_output\n",
    "from openpyxl import load_workbook\n",
    "import os\n",
    "# 初始化一个 5x5 的矩阵，所有值初始为 1\n",
    "button_values = [[1 for _ in range(5)] for _ in range(5)]\n",
    "\n",
    "# 创建一个输出区域以显示矩阵的当前状态\n",
    "output = widgets.Output()\n",
    "\n",
    "def create_button(x, y):\n",
    "    \"\"\"创建并返回一个按钮，绑定点击事件处理函数\"\"\"\n",
    "    button = widgets.Button(description='', layout=widgets.Layout(width='60px', height='60px'))\n",
    "    \n",
    "    def on_button_clicked(b):\n",
    "        # 切换按钮状态和对应的值\n",
    "        button_values[x][y] = 0 if button_values[x][y] == 1 else 1\n",
    "        \n",
    "        # 更新按钮颜色\n",
    "        button.style.button_color = 'lightgreen' if button_values[x][y] == 1 else 'salmon'\n",
    "        \n",
    "        # 更新输出区域以显示当前的矩阵状态\n",
    "        with output:\n",
    "            clear_output(wait=True)\n",
    "            for row in button_values:\n",
    "                print(row)\n",
    "    \n",
    "    button.on_click(on_button_clicked)\n",
    "    \n",
    "    # 设置初始颜色\n",
    "    button.style.button_color = 'lightgreen'\n",
    "    \n",
    "    return button\n",
    "\n",
    "def save_to_excel(button_values, file_path):\n",
    "    \"\"\"将当前按钮状态追加到 Excel 文件的最后一行\"\"\"\n",
    "    # 将 5x5 矩阵展平为一行\n",
    "    transposed_matrix = zip(*button_values)\n",
    "    flat_list = [item for sublist in transposed_matrix for item in sublist]\n",
    "    \n",
    "    # 检查文件是否存在\n",
    "    if os.path.exists(file_path):\n",
    "        # 加载现有的 Excel 工作簿\n",
    "        workbook = load_workbook(file_path)\n",
    "        sheet = workbook.active\n",
    "        \n",
    "        # 追加数据\n",
    "        sheet.append(flat_list)\n",
    "    else:\n",
    "        # 如果文件不存在，创建一个新的工作簿和工作表\n",
    "        from openpyxl import Workbook\n",
    "        workbook = Workbook()\n",
    "        sheet = workbook.active\n",
    "        sheet.append(flat_list)  # 将数据作为第一行\n",
    "    \n",
    "    # 保存工作簿\n",
    "    workbook.save(file_path)\n",
    "    print(\"保存成功!\")\n",
    "\n",
    "\n",
    "# 创建一个 5x5 的按钮网格\n",
    "buttons = [create_button(x, y) for x in range(5) for y in range(5)]\n",
    "\n",
    "# 创建保存按钮\n",
    "save_button = widgets.Button(description=\"保存\", button_style='success', layout=widgets.Layout(width='100px'))\n",
    "# 请替换为你的 Excel 文件路径\n",
    "excel_file_path = \"E:/深度學習作業/TrainingData1.xlsx\"\n",
    "\n",
    "# 更新按钮的事件处理器\n",
    "save_button.on_click(lambda b: save_to_excel(button_values, excel_file_path))\n",
    "# 将按钮和保存按钮添加到网格中\n",
    "grid = widgets.GridBox(children=buttons + [save_button], layout=widgets.Layout(grid_template_columns=\"repeat(5, 100px)\"))\n",
    "\n",
    "# 显示按钮网格和输出区域\n",
    "display(grid, output)\n",
    "\n"
   ]
  }
 ],
 "metadata": {
  "kernelspec": {
   "display_name": "base",
   "language": "python",
   "name": "python3"
  },
  "language_info": {
   "codemirror_mode": {
    "name": "ipython",
    "version": 3
   },
   "file_extension": ".py",
   "mimetype": "text/x-python",
   "name": "python",
   "nbconvert_exporter": "python",
   "pygments_lexer": "ipython3",
   "version": "3.11.5"
  }
 },
 "nbformat": 4,
 "nbformat_minor": 2
}
