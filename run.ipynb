{
 "cells": [
  {
   "cell_type": "code",
   "execution_count": 2,
   "metadata": {},
   "outputs": [
    {
     "data": {
      "application/vnd.jupyter.widget-view+json": {
       "model_id": "237be51249c34ae6861c21052787f2be",
       "version_major": 2,
       "version_minor": 0
      },
      "text/plain": [
       "Text(value='', description='輸入值:', placeholder='在此輸入label')"
      ]
     },
     "metadata": {},
     "output_type": "display_data"
    },
    {
     "data": {
      "application/vnd.jupyter.widget-view+json": {
       "model_id": "9da05953b0d3492b8bc87291c860a9a6",
       "version_major": 2,
       "version_minor": 0
      },
      "text/plain": [
       "GridBox(children=(Button(layout=Layout(height='60px', width='60px'), style=ButtonStyle(button_color='lightgree…"
      ]
     },
     "metadata": {},
     "output_type": "display_data"
    },
    {
     "data": {
      "application/vnd.jupyter.widget-view+json": {
       "model_id": "fd6175c8f7dc44f59d96d34ef874f138",
       "version_major": 2,
       "version_minor": 0
      },
      "text/plain": [
       "Output()"
      ]
     },
     "metadata": {},
     "output_type": "display_data"
    },
    {
     "name": "stdout",
     "output_type": "stream",
     "text": [
      "保存成功!\n"
     ]
    }
   ],
   "source": [
    "from openpyxl import load_workbook, Workbook\n",
    "import pandas as pd\n",
    "import ipywidgets as widgets\n",
    "from IPython.display import display, clear_output\n",
    "import os\n",
    "# 建立一個文字輸入框，用於使用者輸入數據\n",
    "text_input = widgets.Text(\n",
    "    value='',  \n",
    "    placeholder='在此輸入label',  # 輸入框為空時顯示的佔位文字\n",
    "    description='輸入值:',  # 輸入框旁的描述文字\n",
    "    disabled=False  # 輸入框是否可用\n",
    ")\n",
    "# 初始化矩陣\n",
    "button_values = [[1 for _ in range(5)] for _ in range(5)]\n",
    "\n",
    "# 當前矩陣狀態\n",
    "output = widgets.Output()\n",
    "\n",
    "def create_button(x, y):\n",
    "    button = widgets.Button(description='', layout=widgets.Layout(width='60px', height='60px'))\n",
    "    \n",
    "    def on_button_clicked(b):\n",
    "        # 切換按鈕和對應的值\n",
    "        button_values[x][y] = 0 if button_values[x][y] == 1 else 1\n",
    "        \n",
    "        # 更新按鈕顏色\n",
    "        button.style.button_color = 'lightgreen' if button_values[x][y] == 1 else 'salmon'\n",
    "        \n",
    "        # 更新輸出\n",
    "        with output:\n",
    "            clear_output(wait=True)\n",
    "            for row in button_values:\n",
    "                print(row)\n",
    "    \n",
    "    button.on_click(on_button_clicked)\n",
    "    \n",
    "\n",
    "    button.style.button_color = 'lightgreen'\n",
    "    \n",
    "    return button\n",
    "def save_to_excel(button_values, file_path, additional_value):\n",
    "    \"\"\"將目前按鈕狀態和使用者輸入的額外值追加到 Excel 檔案的最後一行\"\"\"\n",
    "    # 將 5x5 矩陣轉置並展平為一行\n",
    "    transposed_matrix = zip(*button_values)\n",
    "    flat_list = [item for sublist in transposed_matrix for item in sublist]\n",
    "    \n",
    "    # 追加用戶輸入的值\n",
    "    flat_list.append(additional_value)\n",
    "    \n",
    "    # 檢查文件是否存在\n",
    "    if os.path.exists(file_path):\n",
    "        # 載入現有的 Excel 工作簿\n",
    "        workbook = load_workbook(file_path)\n",
    "        sheet = workbook.active\n",
    "        # 追加數據\n",
    "        sheet.append(flat_list)\n",
    "    else:\n",
    "        # 如果檔案不存在，建立一個新的工作簿和工作表\n",
    "        workbook = Workbook()\n",
    "        sheet = workbook.active\n",
    "        # 將數據作為第一行\n",
    "        sheet.append(flat_list)\n",
    "    \n",
    "    # 保存工作簿\n",
    "    workbook.save(file_path)\n",
    "    print(\"保存成功!\")\n",
    "\n",
    "# 更新儲存按鈕的事件處理器，包括讀取輸入框的值\n",
    "def on_save_button_clicked(b):\n",
    "    additional_value = text_input.value  # 讀取輸入框中的值\n",
    "    save_to_excel(button_values, excel_file_path, additional_value)\n",
    "    text_input.value = ''  # 儲存後清空輸入框\n",
    "# 建造一個 5x5 的按鈕網格\n",
    "buttons = [create_button(x, y) for x in range(5) for y in range(5)]\n",
    "\n",
    "# 建立儲存按鈕\n",
    "save_button = widgets.Button(description=\"保存\", button_style='success', layout=widgets.Layout(width='100px'))\n",
    "# Excel 文件路徑\n",
    "excel_file_path = \"E:/深度學習作業/TrainingData.xlsx\"\n",
    "\n",
    "save_button.on_click(on_save_button_clicked)\n",
    "# 將按鈕和儲存按鈕新增到網格中\n",
    "grid = widgets.GridBox(children=buttons + [save_button], layout=widgets.Layout(grid_template_columns=\"repeat(5, 100px)\"))\n",
    "\n",
    "\n",
    "display(text_input,grid, output)\n"
   ]
  }
 ],
 "metadata": {
  "kernelspec": {
   "display_name": "base",
   "language": "python",
   "name": "python3"
  },
  "language_info": {
   "codemirror_mode": {
    "name": "ipython",
    "version": 3
   },
   "file_extension": ".py",
   "mimetype": "text/x-python",
   "name": "python",
   "nbconvert_exporter": "python",
   "pygments_lexer": "ipython3",
   "version": "3.11.5"
  }
 },
 "nbformat": 4,
 "nbformat_minor": 2
}
