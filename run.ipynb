{
 "cells": [
  {
   "cell_type": "code",
   "execution_count": 1,
   "metadata": {},
   "outputs": [
    {
     "data": {
      "application/vnd.jupyter.widget-view+json": {
       "model_id": "f48c80d470654041a12ee09cd4267677",
       "version_major": 2,
       "version_minor": 0
      },
      "text/plain": [
       "GridBox(children=(Button(layout=Layout(height='60px', width='60px'), style=ButtonStyle(button_color='lightgree…"
      ]
     },
     "metadata": {},
     "output_type": "display_data"
    },
    {
     "data": {
      "application/vnd.jupyter.widget-view+json": {
       "model_id": "956c6a66b9574c08908ea5b28919458b",
       "version_major": 2,
       "version_minor": 0
      },
      "text/plain": [
       "Output()"
      ]
     },
     "metadata": {},
     "output_type": "display_data"
    }
   ],
   "source": [
    "import pandas as pd\n",
    "import ipywidgets as widgets\n",
    "from IPython.display import display, clear_output\n",
    "from openpyxl import load_workbook\n",
    "import os\n",
    "# 初始化矩陣\n",
    "button_values = [[1 for _ in range(5)] for _ in range(5)]\n",
    "\n",
    "# 當前矩陣狀態\n",
    "output = widgets.Output()\n",
    "\n",
    "def create_button(x, y):\n",
    "    button = widgets.Button(description='', layout=widgets.Layout(width='60px', height='60px'))\n",
    "    \n",
    "    def on_button_clicked(b):\n",
    "        # 切換按鈕和對應的值\n",
    "        button_values[x][y] = 0 if button_values[x][y] == 1 else 1\n",
    "        \n",
    "        # 更新按鈕顏色\n",
    "        button.style.button_color = 'lightgreen' if button_values[x][y] == 1 else 'salmon'\n",
    "        \n",
    "        # 更新輸出\n",
    "        with output:\n",
    "            clear_output(wait=True)\n",
    "            for row in button_values:\n",
    "                print(row)\n",
    "    \n",
    "    button.on_click(on_button_clicked)\n",
    "    \n",
    "\n",
    "    button.style.button_color = 'lightgreen'\n",
    "    \n",
    "    return button\n",
    "\n",
    "def save_to_excel(button_values, file_path):\n",
    "    \"\"\"當前按鈕追加到 Excel 檔案的最後一行\"\"\"\n",
    "    #轉置\n",
    "    transposed_matrix = zip(*button_values)\n",
    "    # 將 5x5 矩陣展平為一行\n",
    "    flat_list = [item for sublist in transposed_matrix for item in sublist]\n",
    "    \n",
    "    # 檢查文件是否存在\n",
    "    if os.path.exists(file_path):\n",
    "        workbook = load_workbook(file_path)\n",
    "        sheet = workbook.active\n",
    "        \n",
    "        sheet.append(flat_list)\n",
    "    else:\n",
    "    # 如果文件不存在\n",
    "        from openpyxl import Workbook\n",
    "        workbook = Workbook()\n",
    "        sheet = workbook.active\n",
    "        sheet.append(flat_list)  \n",
    "    \n",
    "    # 保存工作簿\n",
    "    workbook.save(file_path)\n",
    "    print(\"保存成功!\")\n",
    "\n",
    "\n",
    "# 建造一個 5x5 的按鈕網格\n",
    "buttons = [create_button(x, y) for x in range(5) for y in range(5)]\n",
    "\n",
    "# 建立儲存按鈕\n",
    "save_button = widgets.Button(description=\"保存\", button_style='success', layout=widgets.Layout(width='100px'))\n",
    "# Excel 文件路徑\n",
    "excel_file_path = \"E:/深度學習作業/TrainingData1.xlsx\"\n",
    "\n",
    "# 更新按鈕的事件處理器\n",
    "save_button.on_click(lambda b: save_to_excel(button_values, excel_file_path))\n",
    "# 將按鈕和儲存按鈕新增到網格中\n",
    "grid = widgets.GridBox(children=buttons + [save_button], layout=widgets.Layout(grid_template_columns=\"repeat(5, 100px)\"))\n",
    "\n",
    "\n",
    "display(grid, output)\n",
    "\n"
   ]
  }
 ],
 "metadata": {
  "kernelspec": {
   "display_name": "base",
   "language": "python",
   "name": "python3"
  },
  "language_info": {
   "codemirror_mode": {
    "name": "ipython",
    "version": 3
   },
   "file_extension": ".py",
   "mimetype": "text/x-python",
   "name": "python",
   "nbconvert_exporter": "python",
   "pygments_lexer": "ipython3",
   "version": "3.11.5"
  }
 },
 "nbformat": 4,
 "nbformat_minor": 2
}
